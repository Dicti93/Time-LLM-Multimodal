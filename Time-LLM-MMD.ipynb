{
 "cells": [
  {
   "cell_type": "markdown",
   "metadata": {},
   "source": [
    "# Loading Time-MMD Data"
   ]
  },
  {
   "cell_type": "code",
   "execution_count": 1,
   "metadata": {},
   "outputs": [],
   "source": [
    "import pandas as pd\n",
    "import requests\n",
    "import io\n",
    "\n",
    "# Accessing the MMD dataset from the GitHub repository \"time-mmd\"\n",
    "# The data consists of numerical and textual data, available in various subfolders\n",
    "DATASET_DOMAINS = [\n",
    "    \"Agriculture\", \"Climate\", \"Economy\", \"Energy\", \"Environment\", \"Health_AFR\", \"Health_US\", \"Security\", \"SocialGood\", \"Traffic\"\n",
    "]  # List of available domains to be downloaded\n",
    "\n",
    "BASE_URL = \"https://github.com/adityalab/time-mmd/raw/main/\"  # Base URL of the GitHub repository from which data will be downloaded\n",
    "\n",
    "DATAFRAMES = {}  # Dictionary to store the DataFrames\n"
   ]
  },
  {
   "cell_type": "code",
   "execution_count": 2,
   "metadata": {},
   "outputs": [],
   "source": [
    "# Downloading and saving the CSV files for all domains\n",
    "for domain in DATASET_DOMAINS:  # Loop through all domains (e.g., Agriculture, Energy, Environment)\n",
    "    # Processing numerical data\n",
    "    dataset_url = f\"{BASE_URL}numerical/{domain}/{domain}.csv\"\n",
    "    dataset_name = f\"numerical_{domain}\"\n",
    "    try:\n",
    "        response = requests.get(dataset_url)  # Send an HTTP GET request to download the file\n",
    "        if response.status_code == 200:  # Check if the download was successful (status code 200)\n",
    "            # Load the CSV file into a DataFrame directly from the response content\n",
    "            data = pd.read_csv(io.StringIO(response.text))\n",
    "            DATAFRAMES[dataset_name] = data\n",
    "        else:\n",
    "            print(f\"Error downloading the dataset {dataset_name}. Status Code: {response.status_code}\")  # Print an error message if download fails\n",
    "    except Exception as e:\n",
    "        print(f\"Error accessing the dataset {dataset_name}: {str(e)}\")  # Print a general error message in case of an exception\n",
    "\n",
    "    # Processing textual data (report and search)\n",
    "    for suffix in [\"report\", \"search\"]:\n",
    "        dataset_url = f\"{BASE_URL}textual/{domain}/{domain}_{suffix}.csv\"\n",
    "        dataset_name = f\"textual_{domain}_{suffix}\"\n",
    "        try:\n",
    "            response = requests.get(dataset_url)  # Send an HTTP GET request to download the file\n",
    "            if response.status_code == 200:  # Check if the download was successful (status code 200)\n",
    "                # Load the CSV file into a DataFrame directly from the response content\n",
    "                data = pd.read_csv(io.StringIO(response.text))\n",
    "                DATAFRAMES[dataset_name] = data\n",
    "            else:\n",
    "                print(f\"Error downloading the dataset {dataset_name}. Status Code: {response.status_code}\")  # Print an error message if download fails\n",
    "        except Exception as e:\n",
    "            print(f\"Error accessing the dataset {dataset_name}: {str(e)}\")  # Print a general error message in case of an exception"
   ]
  },
  {
   "cell_type": "code",
   "execution_count": 4,
   "metadata": {},
   "outputs": [
    {
     "name": "stdout",
     "output_type": "stream",
     "text": [
      "Available DataFrames:\n",
      "dict_keys(['numerical_Agriculture', 'textual_Agriculture_report', 'textual_Agriculture_search', 'numerical_Climate', 'textual_Climate_report', 'textual_Climate_search', 'numerical_Economy', 'textual_Economy_report', 'textual_Economy_search', 'numerical_Energy', 'textual_Energy_report', 'textual_Energy_search', 'numerical_Environment', 'textual_Environment_report', 'textual_Environment_search', 'numerical_Health_AFR', 'textual_Health_AFR_report', 'textual_Health_AFR_search', 'numerical_Health_US', 'textual_Health_US_report', 'textual_Health_US_search', 'numerical_Security', 'textual_Security_report', 'textual_Security_search', 'numerical_SocialGood', 'textual_SocialGood_report', 'textual_SocialGood_search', 'numerical_Traffic', 'textual_Traffic_report', 'textual_Traffic_search'])\n"
     ]
    }
   ],
   "source": [
    "# Example: Listing all available DataFrames in DATAFRAMES\n",
    "print(\"Available DataFrames:\")\n",
    "print(DATAFRAMES.keys())"
   ]
  },
  {
   "cell_type": "code",
   "execution_count": 5,
   "metadata": {},
   "outputs": [
    {
     "data": {
      "text/html": [
       "<div>\n",
       "<style scoped>\n",
       "    .dataframe tbody tr th:only-of-type {\n",
       "        vertical-align: middle;\n",
       "    }\n",
       "\n",
       "    .dataframe tbody tr th {\n",
       "        vertical-align: top;\n",
       "    }\n",
       "\n",
       "    .dataframe thead th {\n",
       "        text-align: right;\n",
       "    }\n",
       "</style>\n",
       "<table border=\"1\" class=\"dataframe\">\n",
       "  <thead>\n",
       "    <tr style=\"text-align: right;\">\n",
       "      <th></th>\n",
       "      <th>Date</th>\n",
       "      <th>Wholesale broiler composite</th>\n",
       "      <th>OT</th>\n",
       "      <th>Retail-wholesale spread for broiler composite</th>\n",
       "      <th>date</th>\n",
       "      <th>start_date</th>\n",
       "      <th>end_date</th>\n",
       "    </tr>\n",
       "  </thead>\n",
       "  <tbody>\n",
       "    <tr>\n",
       "      <th>0</th>\n",
       "      <td>1980-01-01</td>\n",
       "      <td>NaN</td>\n",
       "      <td>93.303958</td>\n",
       "      <td>NaN</td>\n",
       "      <td>1980-01-01</td>\n",
       "      <td>1980-01-01</td>\n",
       "      <td>1980-01-31</td>\n",
       "    </tr>\n",
       "    <tr>\n",
       "      <th>1</th>\n",
       "      <td>1980-02-01</td>\n",
       "      <td>NaN</td>\n",
       "      <td>92.391190</td>\n",
       "      <td>NaN</td>\n",
       "      <td>1980-02-01</td>\n",
       "      <td>1980-02-01</td>\n",
       "      <td>1980-02-29</td>\n",
       "    </tr>\n",
       "    <tr>\n",
       "      <th>2</th>\n",
       "      <td>1980-03-01</td>\n",
       "      <td>NaN</td>\n",
       "      <td>90.811401</td>\n",
       "      <td>NaN</td>\n",
       "      <td>1980-03-01</td>\n",
       "      <td>1980-03-01</td>\n",
       "      <td>1980-03-31</td>\n",
       "    </tr>\n",
       "    <tr>\n",
       "      <th>3</th>\n",
       "      <td>1980-04-01</td>\n",
       "      <td>NaN</td>\n",
       "      <td>88.235892</td>\n",
       "      <td>NaN</td>\n",
       "      <td>1980-04-01</td>\n",
       "      <td>1980-04-01</td>\n",
       "      <td>1980-04-30</td>\n",
       "    </tr>\n",
       "    <tr>\n",
       "      <th>4</th>\n",
       "      <td>1980-05-01</td>\n",
       "      <td>NaN</td>\n",
       "      <td>88.577714</td>\n",
       "      <td>NaN</td>\n",
       "      <td>1980-05-01</td>\n",
       "      <td>1980-05-01</td>\n",
       "      <td>1980-05-31</td>\n",
       "    </tr>\n",
       "    <tr>\n",
       "      <th>...</th>\n",
       "      <td>...</td>\n",
       "      <td>...</td>\n",
       "      <td>...</td>\n",
       "      <td>...</td>\n",
       "      <td>...</td>\n",
       "      <td>...</td>\n",
       "      <td>...</td>\n",
       "    </tr>\n",
       "    <tr>\n",
       "      <th>527</th>\n",
       "      <td>2023-12-01</td>\n",
       "      <td>94.600368</td>\n",
       "      <td>244.235447</td>\n",
       "      <td>149.635079</td>\n",
       "      <td>2023-12-01</td>\n",
       "      <td>2023-12-01</td>\n",
       "      <td>2023-12-31</td>\n",
       "    </tr>\n",
       "    <tr>\n",
       "      <th>528</th>\n",
       "      <td>2024-01-01</td>\n",
       "      <td>NaN</td>\n",
       "      <td>242.350564</td>\n",
       "      <td>NaN</td>\n",
       "      <td>2024-01-01</td>\n",
       "      <td>2024-01-01</td>\n",
       "      <td>2024-01-31</td>\n",
       "    </tr>\n",
       "    <tr>\n",
       "      <th>529</th>\n",
       "      <td>2024-02-01</td>\n",
       "      <td>NaN</td>\n",
       "      <td>237.414961</td>\n",
       "      <td>NaN</td>\n",
       "      <td>2024-02-01</td>\n",
       "      <td>2024-02-01</td>\n",
       "      <td>2024-02-29</td>\n",
       "    </tr>\n",
       "    <tr>\n",
       "      <th>530</th>\n",
       "      <td>2024-03-01</td>\n",
       "      <td>NaN</td>\n",
       "      <td>243.267957</td>\n",
       "      <td>NaN</td>\n",
       "      <td>2024-03-01</td>\n",
       "      <td>2024-03-01</td>\n",
       "      <td>2024-03-31</td>\n",
       "    </tr>\n",
       "    <tr>\n",
       "      <th>531</th>\n",
       "      <td>2024-04-01</td>\n",
       "      <td>NaN</td>\n",
       "      <td>241.076620</td>\n",
       "      <td>NaN</td>\n",
       "      <td>2024-04-01</td>\n",
       "      <td>2024-04-01</td>\n",
       "      <td>2024-04-30</td>\n",
       "    </tr>\n",
       "  </tbody>\n",
       "</table>\n",
       "<p>532 rows × 7 columns</p>\n",
       "</div>"
      ],
      "text/plain": [
       "           Date  Wholesale broiler composite          OT  \\\n",
       "0    1980-01-01                          NaN   93.303958   \n",
       "1    1980-02-01                          NaN   92.391190   \n",
       "2    1980-03-01                          NaN   90.811401   \n",
       "3    1980-04-01                          NaN   88.235892   \n",
       "4    1980-05-01                          NaN   88.577714   \n",
       "..          ...                          ...         ...   \n",
       "527  2023-12-01                    94.600368  244.235447   \n",
       "528  2024-01-01                          NaN  242.350564   \n",
       "529  2024-02-01                          NaN  237.414961   \n",
       "530  2024-03-01                          NaN  243.267957   \n",
       "531  2024-04-01                          NaN  241.076620   \n",
       "\n",
       "     Retail-wholesale spread for broiler composite        date  start_date  \\\n",
       "0                                              NaN  1980-01-01  1980-01-01   \n",
       "1                                              NaN  1980-02-01  1980-02-01   \n",
       "2                                              NaN  1980-03-01  1980-03-01   \n",
       "3                                              NaN  1980-04-01  1980-04-01   \n",
       "4                                              NaN  1980-05-01  1980-05-01   \n",
       "..                                             ...         ...         ...   \n",
       "527                                     149.635079  2023-12-01  2023-12-01   \n",
       "528                                            NaN  2024-01-01  2024-01-01   \n",
       "529                                            NaN  2024-02-01  2024-02-01   \n",
       "530                                            NaN  2024-03-01  2024-03-01   \n",
       "531                                            NaN  2024-04-01  2024-04-01   \n",
       "\n",
       "       end_date  \n",
       "0    1980-01-31  \n",
       "1    1980-02-29  \n",
       "2    1980-03-31  \n",
       "3    1980-04-30  \n",
       "4    1980-05-31  \n",
       "..          ...  \n",
       "527  2023-12-31  \n",
       "528  2024-01-31  \n",
       "529  2024-02-29  \n",
       "530  2024-03-31  \n",
       "531  2024-04-30  \n",
       "\n",
       "[532 rows x 7 columns]"
      ]
     },
     "execution_count": 5,
     "metadata": {},
     "output_type": "execute_result"
    }
   ],
   "source": [
    "DATAFRAMES[\"numerical_Agriculture\"]"
   ]
  },
  {
   "cell_type": "code",
   "execution_count": 5,
   "metadata": {},
   "outputs": [
    {
     "name": "stderr",
     "output_type": "stream",
     "text": [
      "Das System kann die angegebene Datei nicht finden.\n"
     ]
    }
   ],
   "source": [
    "!rmdir /s /q Time-LLM\n"
   ]
  },
  {
   "cell_type": "code",
   "execution_count": 25,
   "metadata": {},
   "outputs": [
    {
     "name": "stderr",
     "output_type": "stream",
     "text": [
      "Cloning into 'Time-LLM'...\n"
     ]
    }
   ],
   "source": [
    "!git clone https://github.com/KimMeen/Time-LLM.git"
   ]
  }
 ],
 "metadata": {
  "kernelspec": {
   "display_name": "Python 3",
   "language": "python",
   "name": "python3"
  },
  "language_info": {
   "codemirror_mode": {
    "name": "ipython",
    "version": 3
   },
   "file_extension": ".py",
   "mimetype": "text/x-python",
   "name": "python",
   "nbconvert_exporter": "python",
   "pygments_lexer": "ipython3",
   "version": "3.10.11"
  }
 },
 "nbformat": 4,
 "nbformat_minor": 2
}
